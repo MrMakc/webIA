{
 "cells": [
  {
   "cell_type": "code",
   "execution_count": 3,
   "metadata": {},
   "outputs": [],
   "source": [
    "import pandas as pd"
   ]
  },
  {
   "cell_type": "code",
   "execution_count": 4,
   "metadata": {},
   "outputs": [],
   "source": [
    "import numpy as np\n",
    "import matplotlib.pyplot as plt"
   ]
  },
  {
   "cell_type": "code",
   "execution_count": 5,
   "metadata": {},
   "outputs": [
    {
     "data": {
      "text/html": [
       "<div>\n",
       "<style scoped>\n",
       "    .dataframe tbody tr th:only-of-type {\n",
       "        vertical-align: middle;\n",
       "    }\n",
       "\n",
       "    .dataframe tbody tr th {\n",
       "        vertical-align: top;\n",
       "    }\n",
       "\n",
       "    .dataframe thead th {\n",
       "        text-align: right;\n",
       "    }\n",
       "</style>\n",
       "<table border=\"1\" class=\"dataframe\">\n",
       "  <thead>\n",
       "    <tr style=\"text-align: right;\">\n",
       "      <th></th>\n",
       "      <th>surface</th>\n",
       "      <th>prix</th>\n",
       "      <th>nbRooms</th>\n",
       "    </tr>\n",
       "  </thead>\n",
       "  <tbody>\n",
       "    <tr>\n",
       "      <th>0</th>\n",
       "      <td>100</td>\n",
       "      <td>582303</td>\n",
       "      <td>1</td>\n",
       "    </tr>\n",
       "    <tr>\n",
       "      <th>1</th>\n",
       "      <td>72</td>\n",
       "      <td>207651</td>\n",
       "      <td>2</td>\n",
       "    </tr>\n",
       "    <tr>\n",
       "      <th>2</th>\n",
       "      <td>24</td>\n",
       "      <td>580158</td>\n",
       "      <td>5</td>\n",
       "    </tr>\n",
       "    <tr>\n",
       "      <th>3</th>\n",
       "      <td>127</td>\n",
       "      <td>514901</td>\n",
       "      <td>2</td>\n",
       "    </tr>\n",
       "    <tr>\n",
       "      <th>4</th>\n",
       "      <td>59</td>\n",
       "      <td>533048</td>\n",
       "      <td>3</td>\n",
       "    </tr>\n",
       "  </tbody>\n",
       "</table>\n",
       "</div>"
      ],
      "text/plain": [
       "   surface    prix  nbRooms\n",
       "0      100  582303        1\n",
       "1       72  207651        2\n",
       "2       24  580158        5\n",
       "3      127  514901        2\n",
       "4       59  533048        3"
      ]
     },
     "execution_count": 5,
     "metadata": {},
     "output_type": "execute_result"
    }
   ],
   "source": [
    "# Chargement du fichier csv\n",
    "\n",
    "data = pd.read_csv('data_immo.csv')\n",
    "data.head()"
   ]
  },
  {
   "cell_type": "code",
   "execution_count": null,
   "metadata": {},
   "outputs": [],
   "source": []
  },
  {
   "cell_type": "code",
   "execution_count": 6,
   "metadata": {},
   "outputs": [
    {
     "data": {
      "text/html": [
       "<div>\n",
       "<style scoped>\n",
       "    .dataframe tbody tr th:only-of-type {\n",
       "        vertical-align: middle;\n",
       "    }\n",
       "\n",
       "    .dataframe tbody tr th {\n",
       "        vertical-align: top;\n",
       "    }\n",
       "\n",
       "    .dataframe thead th {\n",
       "        text-align: right;\n",
       "    }\n",
       "</style>\n",
       "<table border=\"1\" class=\"dataframe\">\n",
       "  <thead>\n",
       "    <tr style=\"text-align: right;\">\n",
       "      <th></th>\n",
       "      <th>surface</th>\n",
       "      <th>prix</th>\n",
       "      <th>nbRooms</th>\n",
       "      <th>annee</th>\n",
       "      <th>balcon</th>\n",
       "      <th>garage</th>\n",
       "      <th>note</th>\n",
       "      <th>price_category</th>\n",
       "    </tr>\n",
       "  </thead>\n",
       "  <tbody>\n",
       "    <tr>\n",
       "      <th>0</th>\n",
       "      <td>100</td>\n",
       "      <td>582303</td>\n",
       "      <td>1</td>\n",
       "      <td>2010</td>\n",
       "      <td>True</td>\n",
       "      <td>False</td>\n",
       "      <td>3</td>\n",
       "      <td>scam</td>\n",
       "    </tr>\n",
       "    <tr>\n",
       "      <th>1</th>\n",
       "      <td>72</td>\n",
       "      <td>207651</td>\n",
       "      <td>2</td>\n",
       "      <td>2008</td>\n",
       "      <td>False</td>\n",
       "      <td>True</td>\n",
       "      <td>3</td>\n",
       "      <td>normal</td>\n",
       "    </tr>\n",
       "    <tr>\n",
       "      <th>2</th>\n",
       "      <td>24</td>\n",
       "      <td>580158</td>\n",
       "      <td>5</td>\n",
       "      <td>2010</td>\n",
       "      <td>True</td>\n",
       "      <td>True</td>\n",
       "      <td>5</td>\n",
       "      <td>scam</td>\n",
       "    </tr>\n",
       "    <tr>\n",
       "      <th>3</th>\n",
       "      <td>127</td>\n",
       "      <td>514901</td>\n",
       "      <td>2</td>\n",
       "      <td>2013</td>\n",
       "      <td>False</td>\n",
       "      <td>True</td>\n",
       "      <td>1</td>\n",
       "      <td>scam</td>\n",
       "    </tr>\n",
       "    <tr>\n",
       "      <th>4</th>\n",
       "      <td>59</td>\n",
       "      <td>533048</td>\n",
       "      <td>3</td>\n",
       "      <td>2013</td>\n",
       "      <td>True</td>\n",
       "      <td>True</td>\n",
       "      <td>2</td>\n",
       "      <td>scam</td>\n",
       "    </tr>\n",
       "  </tbody>\n",
       "</table>\n",
       "</div>"
      ],
      "text/plain": [
       "   surface    prix  nbRooms  annee  balcon  garage  note price_category\n",
       "0      100  582303        1   2010    True   False     3           scam\n",
       "1       72  207651        2   2008   False    True     3         normal\n",
       "2       24  580158        5   2010    True    True     5           scam\n",
       "3      127  514901        2   2013   False    True     1           scam\n",
       "4       59  533048        3   2013    True    True     2           scam"
      ]
     },
     "execution_count": 6,
     "metadata": {},
     "output_type": "execute_result"
    }
   ],
   "source": [
    "# Ajout de différentes données randomisée\n",
    "data['annee'] = np.random.randint(2005, 2024, size=len(data))\n",
    "data['balcon'] = np.random.choice([True, False], size=len(data))\n",
    "data['garage'] = np.random.choice([True, False], size=len(data))\n",
    "data['note'] = np.random.randint(1, 6, size=len(data))\n",
    "\n",
    "# Définition des catégories de prix en fonction des prix\n",
    "def categorize_price(price):\n",
    "    if price < 150000:\n",
    "        return 'low'\n",
    "    elif 150000 <= price < 300000:\n",
    "        return 'normal'\n",
    "    elif 300000 <= price < 500000:\n",
    "        return 'high'\n",
    "    else:\n",
    "        return 'scam'\n",
    "\n",
    "data['price_category'] = data['prix'].apply(categorize_price)\n",
    "\n",
    "data.head()"
   ]
  },
  {
   "cell_type": "code",
   "execution_count": null,
   "metadata": {},
   "outputs": [],
   "source": [
    "data.head()"
   ]
  },
  {
   "cell_type": "code",
   "execution_count": 7,
   "metadata": {},
   "outputs": [
    {
     "name": "stdout",
     "output_type": "stream",
     "text": [
      "Moyenne de la surface: 85.2625\n",
      "Écart-type de la surface: 37.7264449942\n",
      "Surface minimale: 20\n",
      "Surface maximale: 148\n"
     ]
    }
   ],
   "source": [
    "# Moyenne de la surface\n",
    "moyenne_surface = data['surface'].mean()\n",
    "\n",
    "# Écart type de la surface\n",
    "ecart_type_surface = data['surface'].std()\n",
    "\n",
    "# Surface minimale\n",
    "min_surface = data['surface'].min()\n",
    "\n",
    "# Surface maximale\n",
    "max_surface = data['surface'].max()\n",
    "\n",
    "# Affichage des résultats\n",
    "print(\"Moyenne de la surface: {}\".format(moyenne_surface))\n",
    "print(\"Écart-type de la surface: {}\".format(ecart_type_surface))\n",
    "print(\"Surface minimale: {}\".format(min_surface))\n",
    "print(\"Surface maximale: {}\".format(max_surface))"
   ]
  },
  {
   "cell_type": "code",
   "execution_count": 8,
   "metadata": {},
   "outputs": [
    {
     "name": "stdout",
     "output_type": "stream",
     "text": [
      "Moyenne des années de construction: 2012.9375\n",
      "Année la plus ancienne: 2005\n",
      "Année la plus récente: 2023\n"
     ]
    }
   ],
   "source": [
    "# Analyse colonne de l'année\n",
    "\n",
    "# Moyenne de l'année de construction\n",
    "moyenne_annee = data['annee'].mean()\n",
    "\n",
    "# Année la plus ancienne\n",
    "ancienne_annee = data['annee'].min()\n",
    "\n",
    "# Année la plus récente\n",
    "recente_annee = data['annee'].max()\n",
    "\n",
    "print(\"Moyenne des années de construction: {}\".format(moyenne_annee))\n",
    "print(\"Année la plus ancienne: {}\".format(ancienne_annee))\n",
    "print(\"Année la plus récente: {}\".format(recente_annee))\n"
   ]
  },
  {
   "cell_type": "code",
   "execution_count": 9,
   "metadata": {},
   "outputs": [
    {
     "name": "stdout",
     "output_type": "stream",
     "text": [
      "Proportion d'appartements avec un balcon: 50.00%\n"
     ]
    }
   ],
   "source": [
    "# Analyse balcon\n",
    "\n",
    "# Calculer le nombre total d'appartements\n",
    "total_appartements = len(data)\n",
    "\n",
    "# Calculer le nombre d'appartements avec un balcon\n",
    "appartements_avec_balcon = data['balcon'].sum()\n",
    "\n",
    "# Calculer la proportion\n",
    "proportion_balcon = float(appartements_avec_balcon) / total_appartements\n",
    "\n",
    "# Afficher la proportion\n",
    "print(\"Proportion d'appartements avec un balcon: {:.2%}\".format(proportion_balcon))"
   ]
  },
  {
   "cell_type": "code",
   "execution_count": 13,
   "metadata": {},
   "outputs": [
    {
     "name": "stdout",
     "output_type": "stream",
     "text": [
      "Catégorie 'normal': 25\n",
      "Catégorie 'high': 23\n",
      "Catégorie 'scam': 17\n",
      "Catégorie 'low': 15\n"
     ]
    }
   ],
   "source": [
    "# Je compte le nombre d'appartements dans chaque catégorie de prix\n",
    "compte_categories = data['price_category'].value_counts()\n",
    "\n",
    "# Affichage des résultats\n",
    "for categorie, compte in compte_categories.iteritems():\n",
    "    print(\"Catégorie '{}': {}\".format(categorie, compte))"
   ]
  },
  {
   "cell_type": "code",
   "execution_count": 11,
   "metadata": {},
   "outputs": [
    {
     "name": "stdout",
     "output_type": "stream",
     "text": [
      "Moyenne du nombre de chambres: 2.92\n",
      "Médiane du nombre de chambres: 3.00\n",
      "Variance du nombre de chambres: 1.97\n",
      "Écart-type du nombre de chambres: 1.40\n"
     ]
    }
   ],
   "source": [
    "# Calculer les statistiques pour le nombre de chambres \n",
    "moyenne_nbRooms = data['nbRooms'].mean()\n",
    "mediane_nbRooms = data['nbRooms'].median()\n",
    "variance_nbRooms = data['nbRooms'].var()\n",
    "ecart_type_nbRooms = data['nbRooms'].std()\n",
    "\n",
    "\n",
    "print(\"Moyenne du nombre de chambres: {:.2f}\".format(moyenne_nbRooms))\n",
    "print(\"Médiane du nombre de chambres: {:.2f}\".format(mediane_nbRooms))\n",
    "print(\"Variance du nombre de chambres: {:.2f}\".format(variance_nbRooms))\n",
    "print(\"Écart-type du nombre de chambres: {:.2f}\".format(ecart_type_nbRooms))"
   ]
  },
  {
   "cell_type": "code",
   "execution_count": 12,
   "metadata": {},
   "outputs": [
    {
     "data": {
      "image/png": "[encoded data removed]",
      "text/plain": [
       "<Figure size 432x288 with 1 Axes>"
      ]
     },
     "metadata": {
      "needs_background": "light"
     },
     "output_type": "display_data"
    },
    {
     "data": {
      "image/png": "[encoded data removed]",
      "text/plain": [
       "<Figure size 720x432 with 1 Axes>"
      ]
     },
     "metadata": {
      "needs_background": "light"
     },
     "output_type": "display_data"
    }
   ],
   "source": [
    "import matplotlib.pyplot as plt\n",
    "\n",
    "# Compter le nombre d'appartements dans chaque catégorie de prix\n",
    "compte_categories = data['price_category'].value_counts()\n",
    "compte_categories.plot(kind='bar', color='skyblue')\n",
    "\n",
    "plt.figure(figsize=(10, 6))\n",
    "compte_categories.plot(kind='bar', color='skyblue')\n",
    "plt.title(u'Répartition des catégories de prix')  # Chaîne Unicode\n",
    "plt.xlabel(u'Catégorie de prix')  # Chaîne Unicode\n",
    "plt.ylabel(u'Nombre d\\'appartements')  # Chaîne Unicode\n",
    "plt.xticks(rotation=0)\n",
    "plt.grid(axis='y')\n",
    "plt.show()\n",
    "\n"
   ]
  },
  {
   "cell_type": "code",
   "execution_count": 13,
   "metadata": {},
   "outputs": [
    {
     "data": {
      "text/html": [
       "<div>\n",
       "<style scoped>\n",
       "    .dataframe tbody tr th:only-of-type {\n",
       "        vertical-align: middle;\n",
       "    }\n",
       "\n",
       "    .dataframe tbody tr th {\n",
       "        vertical-align: top;\n",
       "    }\n",
       "\n",
       "    .dataframe thead th {\n",
       "        text-align: right;\n",
       "    }\n",
       "</style>\n",
       "<table border=\"1\" class=\"dataframe\">\n",
       "  <thead>\n",
       "    <tr style=\"text-align: right;\">\n",
       "      <th></th>\n",
       "      <th>surface</th>\n",
       "      <th>prix</th>\n",
       "      <th>nbRooms</th>\n",
       "      <th>annee</th>\n",
       "      <th>balcon</th>\n",
       "      <th>garage</th>\n",
       "      <th>note</th>\n",
       "      <th>price_category</th>\n",
       "      <th>ville</th>\n",
       "    </tr>\n",
       "  </thead>\n",
       "  <tbody>\n",
       "    <tr>\n",
       "      <th>0</th>\n",
       "      <td>100</td>\n",
       "      <td>582303</td>\n",
       "      <td>1</td>\n",
       "      <td>2010</td>\n",
       "      <td>True</td>\n",
       "      <td>False</td>\n",
       "      <td>3</td>\n",
       "      <td>scam</td>\n",
       "      <td>Paris</td>\n",
       "    </tr>\n",
       "    <tr>\n",
       "      <th>1</th>\n",
       "      <td>72</td>\n",
       "      <td>207651</td>\n",
       "      <td>2</td>\n",
       "      <td>2008</td>\n",
       "      <td>False</td>\n",
       "      <td>True</td>\n",
       "      <td>3</td>\n",
       "      <td>normal</td>\n",
       "      <td>Lyon</td>\n",
       "    </tr>\n",
       "    <tr>\n",
       "      <th>2</th>\n",
       "      <td>24</td>\n",
       "      <td>580158</td>\n",
       "      <td>5</td>\n",
       "      <td>2010</td>\n",
       "      <td>True</td>\n",
       "      <td>True</td>\n",
       "      <td>5</td>\n",
       "      <td>scam</td>\n",
       "      <td>Lyon</td>\n",
       "    </tr>\n",
       "    <tr>\n",
       "      <th>3</th>\n",
       "      <td>127</td>\n",
       "      <td>514901</td>\n",
       "      <td>2</td>\n",
       "      <td>2013</td>\n",
       "      <td>False</td>\n",
       "      <td>True</td>\n",
       "      <td>1</td>\n",
       "      <td>scam</td>\n",
       "      <td>Paris</td>\n",
       "    </tr>\n",
       "    <tr>\n",
       "      <th>4</th>\n",
       "      <td>59</td>\n",
       "      <td>533048</td>\n",
       "      <td>3</td>\n",
       "      <td>2013</td>\n",
       "      <td>True</td>\n",
       "      <td>True</td>\n",
       "      <td>2</td>\n",
       "      <td>scam</td>\n",
       "      <td>Lyon</td>\n",
       "    </tr>\n",
       "  </tbody>\n",
       "</table>\n",
       "</div>"
      ],
      "text/plain": [
       "   surface    prix  nbRooms  annee  balcon  garage  note price_category  ville\n",
       "0      100  582303        1   2010    True   False     3           scam  Paris\n",
       "1       72  207651        2   2008   False    True     3         normal   Lyon\n",
       "2       24  580158        5   2010    True    True     5           scam   Lyon\n",
       "3      127  514901        2   2013   False    True     1           scam  Paris\n",
       "4       59  533048        3   2013    True    True     2           scam   Lyon"
      ]
     },
     "execution_count": 13,
     "metadata": {},
     "output_type": "execute_result"
    }
   ],
   "source": [
    "import random\n",
    "# Compléter avec une nouvelle colonne ville dans votre dataset si l'appartement est de Lyon, Paris ou Marseille\n",
    "\n",
    "villes = ['Lyon', 'Paris', 'Marseille']\n",
    "\n",
    "data['ville'] = [random.choice(villes) for _ in range(len(data))]\n",
    "\n",
    "data.head()"
   ]
  },
  {
   "cell_type": "code",
   "execution_count": 14,
   "metadata": {},
   "outputs": [
    {
     "name": "stdout",
     "output_type": "stream",
     "text": [
      "('Mean Squared Error (MSE):', 1.9679861862651604)\n",
      "('R\\xc2\\xb2 Score:', -0.05841273883168285)\n"
     ]
    }
   ],
   "source": [
    "#Créer une prédiction par regression linéaire sur la note en fonction de la ville, de la surface et du prix\n",
    "from sklearn.model_selection import train_test_split\n",
    "from sklearn.linear_model import LinearRegression\n",
    "from sklearn.metrics import mean_squared_error, r2_score\n",
    "\n",
    "\n",
    "# Encoder la variable 'ville'\n",
    "df_encoded = pd.get_dummies(data, columns=['ville'], drop_first=True)\n",
    "\n",
    "# Définir les features (X) et la cible (y)\n",
    "X = df_encoded[['surface', 'prix', 'ville_Paris', 'ville_Marseille']]  # 'ville_Lyon' est omise\n",
    "y = df_encoded['note']\n",
    "\n",
    "# Diviser le dataset en ensembles d'entraînement et de test\n",
    "X_train, X_test, y_train, y_test = train_test_split(X, y, test_size=0.2, random_state=42)\n",
    "\n",
    "# Créer le modèle de régression linéaire\n",
    "model = LinearRegression()\n",
    "\n",
    "# Entraîner le modèle\n",
    "model.fit(X_train, y_train)\n",
    "\n",
    "# Prédire sur l'ensemble de test\n",
    "y_pred = model.predict(X_test)\n",
    "\n",
    "# Évaluer le modèle\n",
    "mse = mean_squared_error(y_test, y_pred)\n",
    "r2 = r2_score(y_test, y_pred)\n",
    "\n",
    "print(\"Mean Squared Error (MSE):\", mse)\n",
    "print(\"R² Score:\", r2)"
   ]
  },
  {
   "cell_type": "code",
   "execution_count": 15,
   "metadata": {},
   "outputs": [
    {
     "name": "stdout",
     "output_type": "stream",
     "text": [
      "('Mean Squared Error (MSE):', 27.85648640495616)\n",
      "('R\\xc2\\xb2 Score:', -0.41521343910870745)\n"
     ]
    }
   ],
   "source": [
    "#Créer une prédiction par regression linéaire sur l'année en fonction de la ville puis donnéer sa propabilité (R2) et son taux d'erreur en année (RSME ou MSE)\n",
    "\n",
    "# Encoder la variable 'ville'\n",
    "df_encoded = pd.get_dummies(data, columns=['ville'], drop_first=True)\n",
    "\n",
    "# Définir les features (X) et la cible (y)\n",
    "X = df_encoded[['surface', 'prix', 'ville_Paris', 'ville_Marseille']]  # 'ville_Lyon' est omise\n",
    "y = df_encoded['annee']  # Cible : année de construction\n",
    "\n",
    "# Diviser le dataset en ensembles d'entraînement et de test\n",
    "X_train, X_test, y_train, y_test = train_test_split(X, y, test_size=0.2, random_state=42)\n",
    "\n",
    "# Créer le modèle de régression linéaire\n",
    "model = LinearRegression()\n",
    "\n",
    "# Entraîner le modèle\n",
    "model.fit(X_train, y_train)\n",
    "\n",
    "# Prédire sur l'ensemble de test\n",
    "y_pred = model.predict(X_test)\n",
    "\n",
    "# Évaluer le modèle\n",
    "mse = mean_squared_error(y_test, y_pred)\n",
    "r2 = r2_score(y_test, y_pred)\n",
    "\n",
    "print(\"Mean Squared Error (MSE):\", mse)\n",
    "print(\"R² Score:\", r2)"
   ]
  },
  {
   "cell_type": "code",
   "execution_count": 17,
   "metadata": {},
   "outputs": [
    {
     "name": "stdout",
     "output_type": "stream",
     "text": [
      "('Accuracy:', 0.5)\n",
      "('Recall:', 1.0)\n",
      "('F1 Score:', 0.6666666666666666)\n"
     ]
    }
   ],
   "source": [
    "# Créer une classification logistique pour savoir si il y a un garage en fonction du prix et de la ville \n",
    "\n",
    "from sklearn.linear_model import LogisticRegression\n",
    "from sklearn.metrics import accuracy_score, recall_score, f1_score\n",
    "\n",
    "# Encoder la variable 'ville'\n",
    "df_encoded = pd.get_dummies(data, columns=['ville'], drop_first=True)\n",
    "\n",
    "# Définir les features (X) et la cible (y)\n",
    "X = df_encoded[['prix', 'ville_Paris', 'ville_Marseille']]  # 'ville_Lyon' est omise\n",
    "y = df_encoded['garage']  # Cible : présence d'un garage (0 ou 1)\n",
    "\n",
    "# Diviser le dataset en ensembles d'entraînement et de test\n",
    "X_train, X_test, y_train, y_test = train_test_split(X, y, test_size=0.2, random_state=42)\n",
    "\n",
    "# Créer le modèle de classification logistique\n",
    "model = LogisticRegression()\n",
    "\n",
    "# Entraîner le modèle\n",
    "model.fit(X_train, y_train)\n",
    "\n",
    "# Prédire sur l'ensemble de test\n",
    "y_pred = model.predict(X_test)\n",
    "\n",
    "# Évaluer le modèle\n",
    "accuracy = accuracy_score(y_test, y_pred)\n",
    "recall = recall_score(y_test, y_pred)\n",
    "f1 = f1_score(y_test, y_pred)\n",
    "\n",
    "print(\"Accuracy:\", accuracy)\n",
    "print(\"Recall:\", recall)\n",
    "print(\"F1 Score:\", f1)"
   ]
  },
  {
   "cell_type": "code",
   "execution_count": 18,
   "metadata": {},
   "outputs": [
    {
     "name": "stdout",
     "output_type": "stream",
     "text": [
      "('Accuracy:', 0.5)\n",
      "('Recall:', 0.36363636363636365)\n",
      "('F1 Score:', 0.5000000000000001)\n"
     ]
    }
   ],
   "source": [
    "# Créer une classification par KNN pour savoir si il a un balcon en fonction du prix et de la ville\n",
    "\n",
    "from sklearn.neighbors import KNeighborsClassifier\n",
    "\n",
    "# Encoder la variable 'ville'\n",
    "df_encoded = pd.get_dummies(data, columns=['ville'], drop_first=True)\n",
    "\n",
    "# Définir les features (X) et la cible (y)\n",
    "X = df_encoded[['prix', 'ville_Paris', 'ville_Marseille']]  # 'ville_Lyon' est omise\n",
    "y = df_encoded['balcon']  # Cible : présence d'un balcon (0 ou 1)\n",
    "\n",
    "# Diviser le dataset en ensembles d'entraînement et de test\n",
    "X_train, X_test, y_train, y_test = train_test_split(X, y, test_size=0.2, random_state=42)\n",
    "\n",
    "# Créer le modèle KNN\n",
    "model = KNeighborsClassifier(n_neighbors=5)  \n",
    "\n",
    "# Entraîner le modèle\n",
    "model.fit(X_train, y_train)\n",
    "\n",
    "# Prédire sur l'ensemble de test\n",
    "y_pred = model.predict(X_test)\n",
    "\n",
    "# Évaluer le modèle\n",
    "accuracy = accuracy_score(y_test, y_pred)\n",
    "recall = recall_score(y_test, y_pred)\n",
    "f1 = f1_score(y_test, y_pred)\n",
    "\n",
    "print(\"Accuracy:\", accuracy)\n",
    "print(\"Recall:\", recall)\n",
    "print(\"F1 Score:\", f1)\n"
   ]
  },
  {
   "cell_type": "code",
   "execution_count": null,
   "metadata": {},
   "outputs": [],
   "source": [
    "# Fichier généré par MAXIME HINDERSCHIETTE - 5 IW ESGI LYON\n",
    "# Commentaires : bonjour, veuillez trouver ci-joint mon rendu. J'ai rencontré beaucoup de difficulté à comprendre le sujet. Il est possible que des valeurs\n",
    "# soient exagérément fausses... je reste à disposition sur Discord : @makcadam. Je ne me suis pas occupé de l'intégration dans l'API. J'ai privilégié\n",
    "# le notebook.\n",
    "# Cordialement"
   ]
  },
  {
   "cell_type": "code",
   "execution_count": null,
   "metadata": {},
   "outputs": [],
   "source": []
  }
 ],
 "metadata": {
  "kernelspec": {
   "display_name": "Python 2",
   "language": "python",
   "name": "python2"
  },
  "language_info": {
   "codemirror_mode": {
    "name": "ipython",
    "version": 2
   },
   "file_extension": ".py",
   "mimetype": "text/x-python",
   "name": "python",
   "nbconvert_exporter": "python",
   "pygments_lexer": "ipython2",
   "version": "2.7.16"
  }
 },
 "nbformat": 4,
 "nbformat_minor": 2
}
